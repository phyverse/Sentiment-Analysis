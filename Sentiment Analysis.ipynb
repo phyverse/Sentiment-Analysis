{
 "cells": [
  {
   "cell_type": "code",
   "execution_count": 2,
   "metadata": {},
   "outputs": [],
   "source": [
    "from monkeylearn import MonkeyLearn"
   ]
  },
  {
   "cell_type": "code",
   "execution_count": 3,
   "metadata": {},
   "outputs": [
    {
     "name": "stdout",
     "output_type": "stream",
     "text": [
      "Enter Sentence: fuck\n"
     ]
    }
   ],
   "source": [
    "ml = MonkeyLearn('your_api')\n",
    "sentence = input('Enter Sentence: ')"
   ]
  },
  {
   "cell_type": "code",
   "execution_count": 4,
   "metadata": {},
   "outputs": [
    {
     "name": "stdout",
     "output_type": "stream",
     "text": [
      "[{'text': 'fuck', 'external_id': None, 'error': False, 'classifications': [{'tag_name': 'Negative', 'tag_id': 122923346, 'confidence': 0.347}]}]\n"
     ]
    }
   ],
   "source": [
    "data = [sentence]\n",
    "model_id = 'cl_o5BvaHuR'\n",
    "result = ml.classifiers.classify(model_id, data)\n",
    " \n",
    "print(result.body)"
   ]
  },
  {
   "cell_type": "code",
   "execution_count": null,
   "metadata": {},
   "outputs": [],
   "source": []
  },
  {
   "cell_type": "code",
   "execution_count": null,
   "metadata": {},
   "outputs": [],
   "source": []
  }
 ],
 "metadata": {
  "kernelspec": {
   "display_name": "Python 3",
   "language": "python",
   "name": "python3"
  },
  "language_info": {
   "codemirror_mode": {
    "name": "ipython",
    "version": 3
   },
   "file_extension": ".py",
   "mimetype": "text/x-python",
   "name": "python",
   "nbconvert_exporter": "python",
   "pygments_lexer": "ipython3",
   "version": "3.6.9"
  }
 },
 "nbformat": 4,
 "nbformat_minor": 2
}
