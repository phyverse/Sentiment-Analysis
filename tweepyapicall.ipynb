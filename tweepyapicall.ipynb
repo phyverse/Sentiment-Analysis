{
 "cells": [
  {
   "cell_type": "code",
   "execution_count": 1,
   "metadata": {},
   "outputs": [],
   "source": [
    "import tweepy\n",
    "import pandas as pd\n",
    "from nltk.sentiment.vader import SentimentIntensityAnalyzer"
   ]
  },
  {
   "cell_type": "code",
   "execution_count": 2,
   "metadata": {},
   "outputs": [],
   "source": [
    "\n",
    "#My Twitter API Authentication Variables\n",
    "consumer_key = 'sc3CsquYxIb4qivoKFaDMkU9s'\n",
    "consumer_secret = '32dGZUZnSvcQqZ3dEwUrkn0at5l3DDGZr3ye4fpGVBDIXnKkW6'\n",
    "access_token = '970159915464642560-P2P9v1cJoQ9N0brlDca3qPVqDjdJIc6'\n",
    "access_token_secret = 'tJNGEhOLr9Bo9U1ba7q7XLF1y56L4m0LkQLizdmKBVNu1'"
   ]
  },
  {
   "cell_type": "code",
   "execution_count": 6,
   "metadata": {},
   "outputs": [
    {
     "data": {
      "text/html": [
       "<div>\n",
       "<style scoped>\n",
       "    .dataframe tbody tr th:only-of-type {\n",
       "        vertical-align: middle;\n",
       "    }\n",
       "\n",
       "    .dataframe tbody tr th {\n",
       "        vertical-align: top;\n",
       "    }\n",
       "\n",
       "    .dataframe thead th {\n",
       "        text-align: right;\n",
       "    }\n",
       "</style>\n",
       "<table border=\"1\" class=\"dataframe\">\n",
       "  <thead>\n",
       "    <tr style=\"text-align: right;\">\n",
       "      <th></th>\n",
       "      <th>Tweets</th>\n",
       "    </tr>\n",
       "  </thead>\n",
       "  <tbody>\n",
       "    <tr>\n",
       "      <th>0</th>\n",
       "      <td>The Pentagon is predicting supply &amp;amp; demand...</td>\n",
       "    </tr>\n",
       "    <tr>\n",
       "      <th>1</th>\n",
       "      <td>Artificial Intelligence in Agriculture Market ...</td>\n",
       "    </tr>\n",
       "    <tr>\n",
       "      <th>2</th>\n",
       "      <td>Sharing my book list. Part 8\\n\\nThinking Machi...</td>\n",
       "    </tr>\n",
       "    <tr>\n",
       "      <th>3</th>\n",
       "      <td>RT @Aijobs_com: Artificial intelligence: Real ...</td>\n",
       "    </tr>\n",
       "    <tr>\n",
       "      <th>4</th>\n",
       "      <td>RT @Asbar_WF: #AsbarBlog\\n\\nIn this article, t...</td>\n",
       "    </tr>\n",
       "    <tr>\n",
       "      <th>...</th>\n",
       "      <td>...</td>\n",
       "    </tr>\n",
       "    <tr>\n",
       "      <th>95</th>\n",
       "      <td>Rebuilding the Bridge Between Neuroscience and...</td>\n",
       "    </tr>\n",
       "    <tr>\n",
       "      <th>96</th>\n",
       "      <td>One man who is not up to speed with modern tec...</td>\n",
       "    </tr>\n",
       "    <tr>\n",
       "      <th>97</th>\n",
       "      <td>A great read on AI and robotics - what could p...</td>\n",
       "    </tr>\n",
       "    <tr>\n",
       "      <th>98</th>\n",
       "      <td>Working from home in the age of artificial int...</td>\n",
       "    </tr>\n",
       "    <tr>\n",
       "      <th>99</th>\n",
       "      <td>The increasing importance of #AI/ML in enterpr...</td>\n",
       "    </tr>\n",
       "  </tbody>\n",
       "</table>\n",
       "<p>100 rows × 1 columns</p>\n",
       "</div>"
      ],
      "text/plain": [
       "                                               Tweets\n",
       "0   The Pentagon is predicting supply &amp; demand...\n",
       "1   Artificial Intelligence in Agriculture Market ...\n",
       "2   Sharing my book list. Part 8\\n\\nThinking Machi...\n",
       "3   RT @Aijobs_com: Artificial intelligence: Real ...\n",
       "4   RT @Asbar_WF: #AsbarBlog\\n\\nIn this article, t...\n",
       "..                                                ...\n",
       "95  Rebuilding the Bridge Between Neuroscience and...\n",
       "96  One man who is not up to speed with modern tec...\n",
       "97  A great read on AI and robotics - what could p...\n",
       "98  Working from home in the age of artificial int...\n",
       "99  The increasing importance of #AI/ML in enterpr...\n",
       "\n",
       "[100 rows x 1 columns]"
      ]
     },
     "metadata": {},
     "output_type": "display_data"
    },
    {
     "name": "stdout",
     "output_type": "stream",
     "text": [
      "2020-04-28 15:15:18\n"
     ]
    }
   ],
   "source": [
    "auth = tweepy.OAuthHandler(consumer_key, consumer_secret)\n",
    "auth.set_access_token(access_token, access_token_secret)\n",
    "\n",
    "api = tweepy.API(auth)\n",
    "\n",
    "tweets = api.search('Artificial Intelligence', count=200)\n",
    "\n",
    "\n",
    "data = pd.DataFrame(data=[tweet.text for tweet in tweets], columns=['Tweets'])\n",
    "\n",
    "display(data.head(100))\n",
    "\n",
    "\n",
    "print(tweets[0].created_at)"
   ]
  },
  {
   "cell_type": "code",
   "execution_count": 7,
   "metadata": {},
   "outputs": [
    {
     "name": "stderr",
     "output_type": "stream",
     "text": [
      "[nltk_data] Downloading package vader_lexicon to\n",
      "[nltk_data]     /home/sanjog/nltk_data...\n",
      "[nltk_data]   Package vader_lexicon is already up-to-date!\n"
     ]
    },
    {
     "data": {
      "text/plain": [
       "True"
      ]
     },
     "execution_count": 7,
     "metadata": {},
     "output_type": "execute_result"
    }
   ],
   "source": [
    "import nltk\n",
    "nltk.download('vader_lexicon')"
   ]
  },
  {
   "cell_type": "code",
   "execution_count": 8,
   "metadata": {},
   "outputs": [
    {
     "data": {
      "text/html": [
       "<div>\n",
       "<style scoped>\n",
       "    .dataframe tbody tr th:only-of-type {\n",
       "        vertical-align: middle;\n",
       "    }\n",
       "\n",
       "    .dataframe tbody tr th {\n",
       "        vertical-align: top;\n",
       "    }\n",
       "\n",
       "    .dataframe thead th {\n",
       "        text-align: right;\n",
       "    }\n",
       "</style>\n",
       "<table border=\"1\" class=\"dataframe\">\n",
       "  <thead>\n",
       "    <tr style=\"text-align: right;\">\n",
       "      <th></th>\n",
       "      <th>Tweets</th>\n",
       "      <th>polarity</th>\n",
       "    </tr>\n",
       "  </thead>\n",
       "  <tbody>\n",
       "    <tr>\n",
       "      <th>0</th>\n",
       "      <td>The Pentagon is predicting supply &amp;amp; demand...</td>\n",
       "      <td>{'neg': 0.077, 'neu': 0.765, 'pos': 0.158, 'co...</td>\n",
       "    </tr>\n",
       "    <tr>\n",
       "      <th>1</th>\n",
       "      <td>Artificial Intelligence in Agriculture Market ...</td>\n",
       "      <td>{'neg': 0.0, 'neu': 0.629, 'pos': 0.371, 'comp...</td>\n",
       "    </tr>\n",
       "    <tr>\n",
       "      <th>2</th>\n",
       "      <td>Sharing my book list. Part 8\\n\\nThinking Machi...</td>\n",
       "      <td>{'neg': 0.0, 'neu': 0.742, 'pos': 0.258, 'comp...</td>\n",
       "    </tr>\n",
       "    <tr>\n",
       "      <th>3</th>\n",
       "      <td>RT @Aijobs_com: Artificial intelligence: Real ...</td>\n",
       "      <td>{'neg': 0.0, 'neu': 0.576, 'pos': 0.424, 'comp...</td>\n",
       "    </tr>\n",
       "    <tr>\n",
       "      <th>4</th>\n",
       "      <td>RT @Asbar_WF: #AsbarBlog\\n\\nIn this article, t...</td>\n",
       "      <td>{'neg': 0.0, 'neu': 1.0, 'pos': 0.0, 'compound...</td>\n",
       "    </tr>\n",
       "    <tr>\n",
       "      <th>...</th>\n",
       "      <td>...</td>\n",
       "      <td>...</td>\n",
       "    </tr>\n",
       "    <tr>\n",
       "      <th>95</th>\n",
       "      <td>Rebuilding the Bridge Between Neuroscience and...</td>\n",
       "      <td>{'neg': 0.0, 'neu': 0.721, 'pos': 0.279, 'comp...</td>\n",
       "    </tr>\n",
       "    <tr>\n",
       "      <th>96</th>\n",
       "      <td>One man who is not up to speed with modern tec...</td>\n",
       "      <td>{'neg': 0.0, 'neu': 0.889, 'pos': 0.111, 'comp...</td>\n",
       "    </tr>\n",
       "    <tr>\n",
       "      <th>97</th>\n",
       "      <td>A great read on AI and robotics - what could p...</td>\n",
       "      <td>{'neg': 0.0, 'neu': 0.715, 'pos': 0.285, 'comp...</td>\n",
       "    </tr>\n",
       "    <tr>\n",
       "      <th>98</th>\n",
       "      <td>Working from home in the age of artificial int...</td>\n",
       "      <td>{'neg': 0.0, 'neu': 0.866, 'pos': 0.134, 'comp...</td>\n",
       "    </tr>\n",
       "    <tr>\n",
       "      <th>99</th>\n",
       "      <td>The increasing importance of #AI/ML in enterpr...</td>\n",
       "      <td>{'neg': 0.0, 'neu': 0.865, 'pos': 0.135, 'comp...</td>\n",
       "    </tr>\n",
       "  </tbody>\n",
       "</table>\n",
       "<p>100 rows × 2 columns</p>\n",
       "</div>"
      ],
      "text/plain": [
       "                                               Tweets  \\\n",
       "0   The Pentagon is predicting supply &amp; demand...   \n",
       "1   Artificial Intelligence in Agriculture Market ...   \n",
       "2   Sharing my book list. Part 8\\n\\nThinking Machi...   \n",
       "3   RT @Aijobs_com: Artificial intelligence: Real ...   \n",
       "4   RT @Asbar_WF: #AsbarBlog\\n\\nIn this article, t...   \n",
       "..                                                ...   \n",
       "95  Rebuilding the Bridge Between Neuroscience and...   \n",
       "96  One man who is not up to speed with modern tec...   \n",
       "97  A great read on AI and robotics - what could p...   \n",
       "98  Working from home in the age of artificial int...   \n",
       "99  The increasing importance of #AI/ML in enterpr...   \n",
       "\n",
       "                                             polarity  \n",
       "0   {'neg': 0.077, 'neu': 0.765, 'pos': 0.158, 'co...  \n",
       "1   {'neg': 0.0, 'neu': 0.629, 'pos': 0.371, 'comp...  \n",
       "2   {'neg': 0.0, 'neu': 0.742, 'pos': 0.258, 'comp...  \n",
       "3   {'neg': 0.0, 'neu': 0.576, 'pos': 0.424, 'comp...  \n",
       "4   {'neg': 0.0, 'neu': 1.0, 'pos': 0.0, 'compound...  \n",
       "..                                                ...  \n",
       "95  {'neg': 0.0, 'neu': 0.721, 'pos': 0.279, 'comp...  \n",
       "96  {'neg': 0.0, 'neu': 0.889, 'pos': 0.111, 'comp...  \n",
       "97  {'neg': 0.0, 'neu': 0.715, 'pos': 0.285, 'comp...  \n",
       "98  {'neg': 0.0, 'neu': 0.866, 'pos': 0.134, 'comp...  \n",
       "99  {'neg': 0.0, 'neu': 0.865, 'pos': 0.135, 'comp...  \n",
       "\n",
       "[100 rows x 2 columns]"
      ]
     },
     "metadata": {},
     "output_type": "display_data"
    }
   ],
   "source": [
    "\n",
    "sid = SentimentIntensityAnalyzer()\n",
    "\n",
    "\n",
    "listy = []\n",
    "\n",
    "for index, row in data.iterrows():\n",
    "  ss = sid.polarity_scores(row[\"Tweets\"])\n",
    "  listy.append(ss)\n",
    "  \n",
    "se = pd.Series(listy)\n",
    "data['polarity'] = se.values\n",
    "\n",
    "display(data.head(100))"
   ]
  },
  {
   "cell_type": "code",
   "execution_count": null,
   "metadata": {},
   "outputs": [],
   "source": []
  }
 ],
 "metadata": {
  "kernelspec": {
   "display_name": "Python 3",
   "language": "python",
   "name": "python3"
  },
  "language_info": {
   "codemirror_mode": {
    "name": "ipython",
    "version": 3
   },
   "file_extension": ".py",
   "mimetype": "text/x-python",
   "name": "python",
   "nbconvert_exporter": "python",
   "pygments_lexer": "ipython3",
   "version": "3.6.9"
  }
 },
 "nbformat": 4,
 "nbformat_minor": 2
}
